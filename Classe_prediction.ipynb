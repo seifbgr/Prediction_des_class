{
 "cells": [
  {
   "cell_type": "code",
   "execution_count": 1,
   "id": "ff775519-bb2c-4faa-9962-c9e704e37667",
   "metadata": {},
   "outputs": [],
   "source": [
    "import pandas as pd \n",
    "import numpy as np \n",
    "import seaborn as sns \n",
    "import matplotlib.pyplot as plt \n",
    "from  sklearn.model_selection import train_test_split"
   ]
  },
  {
   "cell_type": "code",
   "execution_count": 2,
   "id": "78b512c5-a38d-4a2e-a3a7-735dddace6ef",
   "metadata": {},
   "outputs": [
    {
     "data": {
      "text/html": [
       "<div>\n",
       "<style scoped>\n",
       "    .dataframe tbody tr th:only-of-type {\n",
       "        vertical-align: middle;\n",
       "    }\n",
       "\n",
       "    .dataframe tbody tr th {\n",
       "        vertical-align: top;\n",
       "    }\n",
       "\n",
       "    .dataframe thead th {\n",
       "        text-align: right;\n",
       "    }\n",
       "</style>\n",
       "<table border=\"1\" class=\"dataframe\">\n",
       "  <thead>\n",
       "    <tr style=\"text-align: right;\">\n",
       "      <th></th>\n",
       "      <th>Unnamed: 0</th>\n",
       "      <th>case</th>\n",
       "      <th>class</th>\n",
       "      <th>angle_ch_1</th>\n",
       "      <th>area_ch_1</th>\n",
       "      <th>avg_inten_ch_1</th>\n",
       "      <th>avg_inten_ch_2</th>\n",
       "      <th>avg_inten_ch_3</th>\n",
       "      <th>avg_inten_ch_4</th>\n",
       "      <th>convex_hull_area_ratio_ch_1</th>\n",
       "      <th>...</th>\n",
       "      <th>spot_fiber_count_ch_3</th>\n",
       "      <th>spot_fiber_count_ch_4</th>\n",
       "      <th>total_inten_ch_1</th>\n",
       "      <th>total_inten_ch_2</th>\n",
       "      <th>total_inten_ch_3</th>\n",
       "      <th>total_inten_ch_4</th>\n",
       "      <th>var_inten_ch_1</th>\n",
       "      <th>var_inten_ch_3</th>\n",
       "      <th>var_inten_ch_4</th>\n",
       "      <th>width_ch_1</th>\n",
       "    </tr>\n",
       "  </thead>\n",
       "  <tbody>\n",
       "    <tr>\n",
       "      <th>849</th>\n",
       "      <td>850</td>\n",
       "      <td>Train</td>\n",
       "      <td>PS</td>\n",
       "      <td>45,8688621647379</td>\n",
       "      <td>331</td>\n",
       "      <td>66,9018987341772</td>\n",
       "      <td>111,041139240506</td>\n",
       "      <td>107,889240506329</td>\n",
       "      <td>66,7341772151899</td>\n",
       "      <td>1,69219219219219</td>\n",
       "      <td>...</td>\n",
       "      <td>5</td>\n",
       "      <td>6</td>\n",
       "      <td>21141</td>\n",
       "      <td>34774</td>\n",
       "      <td>34093</td>\n",
       "      <td>21088</td>\n",
       "      <td>61,3813551160976</td>\n",
       "      <td>130,367143723847</td>\n",
       "      <td>69,8207395217281</td>\n",
       "      <td>21,9133831736042</td>\n",
       "    </tr>\n",
       "    <tr>\n",
       "      <th>21</th>\n",
       "      <td>22</td>\n",
       "      <td>Test</td>\n",
       "      <td>PS</td>\n",
       "      <td>80,5548274096692</td>\n",
       "      <td>1060</td>\n",
       "      <td>59,3053359683794</td>\n",
       "      <td>39,7075098814229</td>\n",
       "      <td>29,9347826086957</td>\n",
       "      <td>22,5909090909091</td>\n",
       "      <td>1,07376058041112</td>\n",
       "      <td>...</td>\n",
       "      <td>7</td>\n",
       "      <td>26</td>\n",
       "      <td>60017</td>\n",
       "      <td>39173</td>\n",
       "      <td>30294</td>\n",
       "      <td>22862</td>\n",
       "      <td>47,888835488168</td>\n",
       "      <td>23,3152839583707</td>\n",
       "      <td>24,7728940778371</td>\n",
       "      <td>35,0115220206645</td>\n",
       "    </tr>\n",
       "    <tr>\n",
       "      <th>1054</th>\n",
       "      <td>1055</td>\n",
       "      <td>Test</td>\n",
       "      <td>PS</td>\n",
       "      <td>138,774607298164</td>\n",
       "      <td>163</td>\n",
       "      <td>50,0448717948718</td>\n",
       "      <td>83,0833333333333</td>\n",
       "      <td>93,7884615384615</td>\n",
       "      <td>208,544871794872</td>\n",
       "      <td>1,24545454545455</td>\n",
       "      <td>...</td>\n",
       "      <td>2</td>\n",
       "      <td>5</td>\n",
       "      <td>7807</td>\n",
       "      <td>12806</td>\n",
       "      <td>14631</td>\n",
       "      <td>32533</td>\n",
       "      <td>31,2980590347475</td>\n",
       "      <td>86,5275270869738</td>\n",
       "      <td>169,610237314576</td>\n",
       "      <td>12,9952034965535</td>\n",
       "    </tr>\n",
       "  </tbody>\n",
       "</table>\n",
       "<p>3 rows × 59 columns</p>\n",
       "</div>"
      ],
      "text/plain": [
       "      Unnamed: 0   case class        angle_ch_1  area_ch_1    avg_inten_ch_1  \\\n",
       "849          850  Train    PS  45,8688621647379        331  66,9018987341772   \n",
       "21            22   Test    PS  80,5548274096692       1060  59,3053359683794   \n",
       "1054        1055   Test    PS  138,774607298164        163  50,0448717948718   \n",
       "\n",
       "        avg_inten_ch_2    avg_inten_ch_3    avg_inten_ch_4  \\\n",
       "849   111,041139240506  107,889240506329  66,7341772151899   \n",
       "21    39,7075098814229  29,9347826086957  22,5909090909091   \n",
       "1054  83,0833333333333  93,7884615384615  208,544871794872   \n",
       "\n",
       "     convex_hull_area_ratio_ch_1  ... spot_fiber_count_ch_3  \\\n",
       "849             1,69219219219219  ...                     5   \n",
       "21              1,07376058041112  ...                     7   \n",
       "1054            1,24545454545455  ...                     2   \n",
       "\n",
       "     spot_fiber_count_ch_4 total_inten_ch_1 total_inten_ch_2 total_inten_ch_3  \\\n",
       "849                      6            21141            34774            34093   \n",
       "21                      26            60017            39173            30294   \n",
       "1054                     5             7807            12806            14631   \n",
       "\n",
       "     total_inten_ch_4    var_inten_ch_1    var_inten_ch_3    var_inten_ch_4  \\\n",
       "849             21088  61,3813551160976  130,367143723847  69,8207395217281   \n",
       "21              22862   47,888835488168  23,3152839583707  24,7728940778371   \n",
       "1054            32533  31,2980590347475  86,5275270869738  169,610237314576   \n",
       "\n",
       "            width_ch_1  \n",
       "849   21,9133831736042  \n",
       "21    35,0115220206645  \n",
       "1054  12,9952034965535  \n",
       "\n",
       "[3 rows x 59 columns]"
      ]
     },
     "execution_count": 2,
     "metadata": {},
     "output_type": "execute_result"
    }
   ],
   "source": [
    "df = pd.read_csv(r'C:\\Users\\Utilisateur\\Downloads\\Cells.csv', sep=';')\n",
    "df.sample(3)"
   ]
  },
  {
   "cell_type": "code",
   "execution_count": 5,
   "id": "fabb0297-d6da-49f3-a7c1-b3a99a011fd9",
   "metadata": {},
   "outputs": [
    {
     "name": "stdout",
     "output_type": "stream",
     "text": [
      "<class 'pandas.core.frame.DataFrame'>\n",
      "RangeIndex: 2019 entries, 0 to 2018\n",
      "Data columns (total 59 columns):\n",
      " #   Column                        Non-Null Count  Dtype \n",
      "---  ------                        --------------  ----- \n",
      " 0   Unnamed: 0                    2019 non-null   int64 \n",
      " 1   case                          2019 non-null   object\n",
      " 2   class                         2019 non-null   object\n",
      " 3   angle_ch_1                    2019 non-null   object\n",
      " 4   area_ch_1                     2019 non-null   int64 \n",
      " 5   avg_inten_ch_1                2019 non-null   object\n",
      " 6   avg_inten_ch_2                2019 non-null   object\n",
      " 7   avg_inten_ch_3                2019 non-null   object\n",
      " 8   avg_inten_ch_4                2019 non-null   object\n",
      " 9   convex_hull_area_ratio_ch_1   2019 non-null   object\n",
      " 10  convex_hull_perim_ratio_ch_1  2019 non-null   object\n",
      " 11  diff_inten_density_ch_1       2019 non-null   object\n",
      " 12  diff_inten_density_ch_3       2019 non-null   object\n",
      " 13  diff_inten_density_ch_4       2019 non-null   object\n",
      " 14  entropy_inten_ch_1            2019 non-null   object\n",
      " 15  entropy_inten_ch_3            2019 non-null   object\n",
      " 16  entropy_inten_ch_4            2019 non-null   object\n",
      " 17  eq_circ_diam_ch_1             2019 non-null   object\n",
      " 18  eq_ellipse_lwr_ch_1           2019 non-null   object\n",
      " 19  eq_ellipse_oblate_vol_ch_1    2019 non-null   object\n",
      " 20  eq_ellipse_prolate_vol_ch_1   2019 non-null   object\n",
      " 21  eq_sphere_area_ch_1           2019 non-null   object\n",
      " 22  eq_sphere_vol_ch_1            2019 non-null   object\n",
      " 23  fiber_align_2_ch_3            2019 non-null   object\n",
      " 24  fiber_align_2_ch_4            2019 non-null   object\n",
      " 25  fiber_length_ch_1             2019 non-null   object\n",
      " 26  fiber_width_ch_1              2019 non-null   object\n",
      " 27  inten_cooc_asm_ch_3           2019 non-null   object\n",
      " 28  inten_cooc_asm_ch_4           2019 non-null   object\n",
      " 29  inten_cooc_contrast_ch_3      2019 non-null   object\n",
      " 30  inten_cooc_contrast_ch_4      2019 non-null   object\n",
      " 31  inten_cooc_entropy_ch_3       2019 non-null   object\n",
      " 32  inten_cooc_entropy_ch_4       2019 non-null   object\n",
      " 33  inten_cooc_max_ch_3           2019 non-null   object\n",
      " 34  inten_cooc_max_ch_4           2019 non-null   object\n",
      " 35  kurt_inten_ch_1               2019 non-null   object\n",
      " 36  kurt_inten_ch_3               2019 non-null   object\n",
      " 37  kurt_inten_ch_4               2019 non-null   object\n",
      " 38  length_ch_1                   2019 non-null   object\n",
      " 39  neighbor_avg_dist_ch_1        2019 non-null   object\n",
      " 40  neighbor_min_dist_ch_1        2019 non-null   object\n",
      " 41  neighbor_var_dist_ch_1        2019 non-null   object\n",
      " 42  perim_ch_1                    2019 non-null   object\n",
      " 43  shape_bfr_ch_1                2019 non-null   object\n",
      " 44  shape_lwr_ch_1                2019 non-null   object\n",
      " 45  shape_p_2_a_ch_1              2019 non-null   object\n",
      " 46  skew_inten_ch_1               2019 non-null   object\n",
      " 47  skew_inten_ch_3               2019 non-null   object\n",
      " 48  skew_inten_ch_4               2019 non-null   object\n",
      " 49  spot_fiber_count_ch_3         2019 non-null   int64 \n",
      " 50  spot_fiber_count_ch_4         2019 non-null   int64 \n",
      " 51  total_inten_ch_1              2019 non-null   int64 \n",
      " 52  total_inten_ch_2              2019 non-null   int64 \n",
      " 53  total_inten_ch_3              2019 non-null   int64 \n",
      " 54  total_inten_ch_4              2019 non-null   int64 \n",
      " 55  var_inten_ch_1                2019 non-null   object\n",
      " 56  var_inten_ch_3                2019 non-null   object\n",
      " 57  var_inten_ch_4                2019 non-null   object\n",
      " 58  width_ch_1                    2019 non-null   object\n",
      "dtypes: int64(8), object(51)\n",
      "memory usage: 930.8+ KB\n"
     ]
    }
   ],
   "source": [
    "df.info()"
   ]
  },
  {
   "cell_type": "code",
   "execution_count": 7,
   "id": "725fead1-8ebb-4b0c-b9d4-8731b2d2a816",
   "metadata": {},
   "outputs": [
    {
     "name": "stderr",
     "output_type": "stream",
     "text": [
      "C:\\Users\\Utilisateur\\AppData\\Local\\Temp\\ipykernel_16624\\1886712886.py:1: FutureWarning: \n",
      "\n",
      "Passing `palette` without assigning `hue` is deprecated and will be removed in v0.14.0. Assign the `x` variable to `hue` and set `legend=False` for the same effect.\n",
      "\n",
      "  sns.countplot(x ='class', data =df ,palette='pastel')\n"
     ]
    },
    {
     "data": {
      "text/plain": [
       "<Axes: xlabel='class', ylabel='count'>"
      ]
     },
     "execution_count": 7,
     "metadata": {},
     "output_type": "execute_result"
    },
    {
     "data": {
      "image/png": "[encoded data removed]",
      "text/plain": [
       "<Figure size 640x480 with 1 Axes>"
      ]
     },
     "metadata": {},
     "output_type": "display_data"
    }
   ],
   "source": [
    "sns.countplot(x ='class', data =df ,palette='pastel')"
   ]
  },
  {
   "cell_type": "code",
   "execution_count": 9,
   "id": "d9da7abf-07c1-4948-92e0-dc2477cdc4f0",
   "metadata": {},
   "outputs": [
    {
     "data": {
      "text/plain": [
       "Unnamed: 0                      0\n",
       "case                            0\n",
       "class                           0\n",
       "angle_ch_1                      0\n",
       "area_ch_1                       0\n",
       "avg_inten_ch_1                  0\n",
       "avg_inten_ch_2                  0\n",
       "avg_inten_ch_3                  0\n",
       "avg_inten_ch_4                  0\n",
       "convex_hull_area_ratio_ch_1     0\n",
       "convex_hull_perim_ratio_ch_1    0\n",
       "diff_inten_density_ch_1         0\n",
       "diff_inten_density_ch_3         0\n",
       "diff_inten_density_ch_4         0\n",
       "entropy_inten_ch_1              0\n",
       "entropy_inten_ch_3              0\n",
       "entropy_inten_ch_4              0\n",
       "eq_circ_diam_ch_1               0\n",
       "eq_ellipse_lwr_ch_1             0\n",
       "eq_ellipse_oblate_vol_ch_1      0\n",
       "eq_ellipse_prolate_vol_ch_1     0\n",
       "eq_sphere_area_ch_1             0\n",
       "eq_sphere_vol_ch_1              0\n",
       "fiber_align_2_ch_3              0\n",
       "fiber_align_2_ch_4              0\n",
       "fiber_length_ch_1               0\n",
       "fiber_width_ch_1                0\n",
       "inten_cooc_asm_ch_3             0\n",
       "inten_cooc_asm_ch_4             0\n",
       "inten_cooc_contrast_ch_3        0\n",
       "inten_cooc_contrast_ch_4        0\n",
       "inten_cooc_entropy_ch_3         0\n",
       "inten_cooc_entropy_ch_4         0\n",
       "inten_cooc_max_ch_3             0\n",
       "inten_cooc_max_ch_4             0\n",
       "kurt_inten_ch_1                 0\n",
       "kurt_inten_ch_3                 0\n",
       "kurt_inten_ch_4                 0\n",
       "length_ch_1                     0\n",
       "neighbor_avg_dist_ch_1          0\n",
       "neighbor_min_dist_ch_1          0\n",
       "neighbor_var_dist_ch_1          0\n",
       "perim_ch_1                      0\n",
       "shape_bfr_ch_1                  0\n",
       "shape_lwr_ch_1                  0\n",
       "shape_p_2_a_ch_1                0\n",
       "skew_inten_ch_1                 0\n",
       "skew_inten_ch_3                 0\n",
       "skew_inten_ch_4                 0\n",
       "spot_fiber_count_ch_3           0\n",
       "spot_fiber_count_ch_4           0\n",
       "total_inten_ch_1                0\n",
       "total_inten_ch_2                0\n",
       "total_inten_ch_3                0\n",
       "total_inten_ch_4                0\n",
       "var_inten_ch_1                  0\n",
       "var_inten_ch_3                  0\n",
       "var_inten_ch_4                  0\n",
       "width_ch_1                      0\n",
       "dtype: int64"
      ]
     },
     "execution_count": 9,
     "metadata": {},
     "output_type": "execute_result"
    }
   ],
   "source": [
    "df.isnull().sum()\n",
    "#on remarque que y a pas des valeurs manquantes µ"
   ]
  },
  {
   "cell_type": "code",
   "execution_count": 11,
   "id": "d1dc46b4-ecc2-4d48-b92a-34c6778498fb",
   "metadata": {},
   "outputs": [
    {
     "data": {
      "text/plain": [
       "Unnamed: 0                      2019\n",
       "eq_ellipse_prolate_vol_ch_1     2019\n",
       "inten_cooc_asm_ch_4             2019\n",
       "inten_cooc_contrast_ch_4        2019\n",
       "inten_cooc_entropy_ch_3         2019\n",
       "inten_cooc_entropy_ch_4         2019\n",
       "kurt_inten_ch_1                 2019\n",
       "kurt_inten_ch_3                 2019\n",
       "kurt_inten_ch_4                 2019\n",
       "length_ch_1                     2019\n",
       "neighbor_avg_dist_ch_1          2019\n",
       "neighbor_var_dist_ch_1          2019\n",
       "shape_bfr_ch_1                  2019\n",
       "skew_inten_ch_1                 2019\n",
       "skew_inten_ch_3                 2019\n",
       "skew_inten_ch_4                 2019\n",
       "var_inten_ch_1                  2019\n",
       "var_inten_ch_3                  2019\n",
       "var_inten_ch_4                  2019\n",
       "inten_cooc_asm_ch_3             2019\n",
       "inten_cooc_contrast_ch_3        2019\n",
       "width_ch_1                      2019\n",
       "diff_inten_density_ch_4         2019\n",
       "avg_inten_ch_3                  2019\n",
       "convex_hull_perim_ratio_ch_1    2019\n",
       "eq_ellipse_oblate_vol_ch_1      2019\n",
       "eq_ellipse_lwr_ch_1             2019\n",
       "angle_ch_1                      2019\n",
       "entropy_inten_ch_4              2019\n",
       "entropy_inten_ch_3              2019\n",
       "shape_lwr_ch_1                  2018\n",
       "avg_inten_ch_4                  2018\n",
       "diff_inten_density_ch_1         2018\n",
       "diff_inten_density_ch_3         2018\n",
       "entropy_inten_ch_1              2018\n",
       "avg_inten_ch_1                  2017\n",
       "avg_inten_ch_2                  2014\n",
       "shape_p_2_a_ch_1                2010\n",
       "total_inten_ch_4                1986\n",
       "total_inten_ch_3                1985\n",
       "convex_hull_area_ratio_ch_1     1977\n",
       "total_inten_ch_2                1976\n",
       "total_inten_ch_1                1974\n",
       "fiber_align_2_ch_3              1923\n",
       "fiber_align_2_ch_4              1897\n",
       "fiber_width_ch_1                1871\n",
       "fiber_length_ch_1               1871\n",
       "inten_cooc_max_ch_4             1848\n",
       "inten_cooc_max_ch_3             1768\n",
       "perim_ch_1                      1001\n",
       "neighbor_min_dist_ch_1           548\n",
       "eq_sphere_vol_ch_1               511\n",
       "eq_circ_diam_ch_1                511\n",
       "area_ch_1                        511\n",
       "eq_sphere_area_ch_1              511\n",
       "spot_fiber_count_ch_4             35\n",
       "spot_fiber_count_ch_3             13\n",
       "case                               2\n",
       "class                              2\n",
       "dtype: int64"
      ]
     },
     "execution_count": 11,
     "metadata": {},
     "output_type": "execute_result"
    }
   ],
   "source": [
    "df.nunique().sort_values(ascending=False)"
   ]
  },
  {
   "cell_type": "code",
   "execution_count": 13,
   "id": "447b1fb4-776c-41cf-8e1e-507dec555b60",
   "metadata": {},
   "outputs": [
    {
     "data": {
      "text/html": [
       "<div>\n",
       "<style scoped>\n",
       "    .dataframe tbody tr th:only-of-type {\n",
       "        vertical-align: middle;\n",
       "    }\n",
       "\n",
       "    .dataframe tbody tr th {\n",
       "        vertical-align: top;\n",
       "    }\n",
       "\n",
       "    .dataframe thead th {\n",
       "        text-align: right;\n",
       "    }\n",
       "</style>\n",
       "<table border=\"1\" class=\"dataframe\">\n",
       "  <thead>\n",
       "    <tr style=\"text-align: right;\">\n",
       "      <th></th>\n",
       "      <th>Unnamed: 0</th>\n",
       "      <th>area_ch_1</th>\n",
       "      <th>spot_fiber_count_ch_3</th>\n",
       "      <th>spot_fiber_count_ch_4</th>\n",
       "      <th>total_inten_ch_1</th>\n",
       "      <th>total_inten_ch_2</th>\n",
       "      <th>total_inten_ch_3</th>\n",
       "      <th>total_inten_ch_4</th>\n",
       "      <th>case</th>\n",
       "      <th>class</th>\n",
       "    </tr>\n",
       "  </thead>\n",
       "  <tbody>\n",
       "    <tr>\n",
       "      <th>0</th>\n",
       "      <td>1</td>\n",
       "      <td>185</td>\n",
       "      <td>1</td>\n",
       "      <td>5</td>\n",
       "      <td>2781</td>\n",
       "      <td>701</td>\n",
       "      <td>1690</td>\n",
       "      <td>392</td>\n",
       "      <td>Test</td>\n",
       "      <td>PS</td>\n",
       "    </tr>\n",
       "    <tr>\n",
       "      <th>1</th>\n",
       "      <td>2</td>\n",
       "      <td>819</td>\n",
       "      <td>4</td>\n",
       "      <td>12</td>\n",
       "      <td>24964</td>\n",
       "      <td>160998</td>\n",
       "      <td>54675</td>\n",
       "      <td>128368</td>\n",
       "      <td>Train</td>\n",
       "      <td>PS</td>\n",
       "    </tr>\n",
       "    <tr>\n",
       "      <th>2</th>\n",
       "      <td>3</td>\n",
       "      <td>431</td>\n",
       "      <td>2</td>\n",
       "      <td>7</td>\n",
       "      <td>11552</td>\n",
       "      <td>47511</td>\n",
       "      <td>26344</td>\n",
       "      <td>43959</td>\n",
       "      <td>Train</td>\n",
       "      <td>WS</td>\n",
       "    </tr>\n",
       "    <tr>\n",
       "      <th>3</th>\n",
       "      <td>4</td>\n",
       "      <td>298</td>\n",
       "      <td>4</td>\n",
       "      <td>8</td>\n",
       "      <td>5545</td>\n",
       "      <td>28870</td>\n",
       "      <td>8042</td>\n",
       "      <td>8843</td>\n",
       "      <td>Train</td>\n",
       "      <td>PS</td>\n",
       "    </tr>\n",
       "    <tr>\n",
       "      <th>4</th>\n",
       "      <td>5</td>\n",
       "      <td>285</td>\n",
       "      <td>1</td>\n",
       "      <td>8</td>\n",
       "      <td>6603</td>\n",
       "      <td>30306</td>\n",
       "      <td>5569</td>\n",
       "      <td>11037</td>\n",
       "      <td>Test</td>\n",
       "      <td>PS</td>\n",
       "    </tr>\n",
       "    <tr>\n",
       "      <th>...</th>\n",
       "      <td>...</td>\n",
       "      <td>...</td>\n",
       "      <td>...</td>\n",
       "      <td>...</td>\n",
       "      <td>...</td>\n",
       "      <td>...</td>\n",
       "      <td>...</td>\n",
       "      <td>...</td>\n",
       "      <td>...</td>\n",
       "      <td>...</td>\n",
       "    </tr>\n",
       "    <tr>\n",
       "      <th>2014</th>\n",
       "      <td>2015</td>\n",
       "      <td>302</td>\n",
       "      <td>1</td>\n",
       "      <td>7</td>\n",
       "      <td>12150</td>\n",
       "      <td>6783</td>\n",
       "      <td>41481</td>\n",
       "      <td>67431</td>\n",
       "      <td>Train</td>\n",
       "      <td>PS</td>\n",
       "    </tr>\n",
       "    <tr>\n",
       "      <th>2015</th>\n",
       "      <td>2016</td>\n",
       "      <td>607</td>\n",
       "      <td>5</td>\n",
       "      <td>14</td>\n",
       "      <td>22506</td>\n",
       "      <td>11942</td>\n",
       "      <td>45456</td>\n",
       "      <td>47676</td>\n",
       "      <td>Test</td>\n",
       "      <td>PS</td>\n",
       "    </tr>\n",
       "    <tr>\n",
       "      <th>2016</th>\n",
       "      <td>2017</td>\n",
       "      <td>204</td>\n",
       "      <td>1</td>\n",
       "      <td>7</td>\n",
       "      <td>7384</td>\n",
       "      <td>1170</td>\n",
       "      <td>11659</td>\n",
       "      <td>28906</td>\n",
       "      <td>Test</td>\n",
       "      <td>PS</td>\n",
       "    </tr>\n",
       "    <tr>\n",
       "      <th>2017</th>\n",
       "      <td>2018</td>\n",
       "      <td>390</td>\n",
       "      <td>2</td>\n",
       "      <td>4</td>\n",
       "      <td>17025</td>\n",
       "      <td>63084</td>\n",
       "      <td>55017</td>\n",
       "      <td>126118</td>\n",
       "      <td>Test</td>\n",
       "      <td>WS</td>\n",
       "    </tr>\n",
       "    <tr>\n",
       "      <th>2018</th>\n",
       "      <td>2019</td>\n",
       "      <td>441</td>\n",
       "      <td>3</td>\n",
       "      <td>5</td>\n",
       "      <td>15005</td>\n",
       "      <td>49836</td>\n",
       "      <td>40727</td>\n",
       "      <td>80741</td>\n",
       "      <td>Train</td>\n",
       "      <td>WS</td>\n",
       "    </tr>\n",
       "  </tbody>\n",
       "</table>\n",
       "<p>2019 rows × 10 columns</p>\n",
       "</div>"
      ],
      "text/plain": [
       "      Unnamed: 0  area_ch_1  spot_fiber_count_ch_3  spot_fiber_count_ch_4  \\\n",
       "0              1        185                      1                      5   \n",
       "1              2        819                      4                     12   \n",
       "2              3        431                      2                      7   \n",
       "3              4        298                      4                      8   \n",
       "4              5        285                      1                      8   \n",
       "...          ...        ...                    ...                    ...   \n",
       "2014        2015        302                      1                      7   \n",
       "2015        2016        607                      5                     14   \n",
       "2016        2017        204                      1                      7   \n",
       "2017        2018        390                      2                      4   \n",
       "2018        2019        441                      3                      5   \n",
       "\n",
       "      total_inten_ch_1  total_inten_ch_2  total_inten_ch_3  total_inten_ch_4  \\\n",
       "0                 2781               701              1690               392   \n",
       "1                24964            160998             54675            128368   \n",
       "2                11552             47511             26344             43959   \n",
       "3                 5545             28870              8042              8843   \n",
       "4                 6603             30306              5569             11037   \n",
       "...                ...               ...               ...               ...   \n",
       "2014             12150              6783             41481             67431   \n",
       "2015             22506             11942             45456             47676   \n",
       "2016              7384              1170             11659             28906   \n",
       "2017             17025             63084             55017            126118   \n",
       "2018             15005             49836             40727             80741   \n",
       "\n",
       "       case class  \n",
       "0      Test    PS  \n",
       "1     Train    PS  \n",
       "2     Train    WS  \n",
       "3     Train    PS  \n",
       "4      Test    PS  \n",
       "...     ...   ...  \n",
       "2014  Train    PS  \n",
       "2015   Test    PS  \n",
       "2016   Test    PS  \n",
       "2017   Test    WS  \n",
       "2018  Train    WS  \n",
       "\n",
       "[2019 rows x 10 columns]"
      ]
     },
     "execution_count": 13,
     "metadata": {},
     "output_type": "execute_result"
    }
   ],
   "source": [
    "# Sélection des variables importantes\n",
    "names_columns = df.select_dtypes(include=['int64']).columns\n",
    "names_columns = list(names_columns) + ['case','class']\n",
    "df = df[names_columns]\n",
    "df"
   ]
  },
  {
   "cell_type": "code",
   "execution_count": 15,
   "id": "09e8692b-afb6-4c94-8890-6c9f031d02b7",
   "metadata": {},
   "outputs": [
    {
     "name": "stderr",
     "output_type": "stream",
     "text": [
      "C:\\Users\\Utilisateur\\AppData\\Local\\Temp\\ipykernel_16624\\2461113484.py:2: FutureWarning: Downcasting behavior in `replace` is deprecated and will be removed in a future version. To retain the old behavior, explicitly call `result.infer_objects(copy=False)`. To opt-in to the future behavior, set `pd.set_option('future.no_silent_downcasting', True)`\n",
      "  df['case'] = df['case'].replace({'Test' : 0 , 'Train' : 1})\n",
      "C:\\Users\\Utilisateur\\AppData\\Local\\Temp\\ipykernel_16624\\2461113484.py:3: FutureWarning: Downcasting behavior in `replace` is deprecated and will be removed in a future version. To retain the old behavior, explicitly call `result.infer_objects(copy=False)`. To opt-in to the future behavior, set `pd.set_option('future.no_silent_downcasting', True)`\n",
      "  df['class'] = df['class'].replace({'WS' : 0 , 'PS' : 1})\n"
     ]
    },
    {
     "data": {
      "text/html": [
       "<div>\n",
       "<style scoped>\n",
       "    .dataframe tbody tr th:only-of-type {\n",
       "        vertical-align: middle;\n",
       "    }\n",
       "\n",
       "    .dataframe tbody tr th {\n",
       "        vertical-align: top;\n",
       "    }\n",
       "\n",
       "    .dataframe thead th {\n",
       "        text-align: right;\n",
       "    }\n",
       "</style>\n",
       "<table border=\"1\" class=\"dataframe\">\n",
       "  <thead>\n",
       "    <tr style=\"text-align: right;\">\n",
       "      <th></th>\n",
       "      <th>Unnamed: 0</th>\n",
       "      <th>area_ch_1</th>\n",
       "      <th>spot_fiber_count_ch_3</th>\n",
       "      <th>spot_fiber_count_ch_4</th>\n",
       "      <th>total_inten_ch_1</th>\n",
       "      <th>total_inten_ch_2</th>\n",
       "      <th>total_inten_ch_3</th>\n",
       "      <th>total_inten_ch_4</th>\n",
       "      <th>case</th>\n",
       "      <th>class</th>\n",
       "    </tr>\n",
       "  </thead>\n",
       "  <tbody>\n",
       "    <tr>\n",
       "      <th>0</th>\n",
       "      <td>1</td>\n",
       "      <td>185</td>\n",
       "      <td>1</td>\n",
       "      <td>5</td>\n",
       "      <td>2781</td>\n",
       "      <td>701</td>\n",
       "      <td>1690</td>\n",
       "      <td>392</td>\n",
       "      <td>0</td>\n",
       "      <td>1</td>\n",
       "    </tr>\n",
       "    <tr>\n",
       "      <th>1</th>\n",
       "      <td>2</td>\n",
       "      <td>819</td>\n",
       "      <td>4</td>\n",
       "      <td>12</td>\n",
       "      <td>24964</td>\n",
       "      <td>160998</td>\n",
       "      <td>54675</td>\n",
       "      <td>128368</td>\n",
       "      <td>1</td>\n",
       "      <td>1</td>\n",
       "    </tr>\n",
       "    <tr>\n",
       "      <th>2</th>\n",
       "      <td>3</td>\n",
       "      <td>431</td>\n",
       "      <td>2</td>\n",
       "      <td>7</td>\n",
       "      <td>11552</td>\n",
       "      <td>47511</td>\n",
       "      <td>26344</td>\n",
       "      <td>43959</td>\n",
       "      <td>1</td>\n",
       "      <td>0</td>\n",
       "    </tr>\n",
       "    <tr>\n",
       "      <th>3</th>\n",
       "      <td>4</td>\n",
       "      <td>298</td>\n",
       "      <td>4</td>\n",
       "      <td>8</td>\n",
       "      <td>5545</td>\n",
       "      <td>28870</td>\n",
       "      <td>8042</td>\n",
       "      <td>8843</td>\n",
       "      <td>1</td>\n",
       "      <td>1</td>\n",
       "    </tr>\n",
       "    <tr>\n",
       "      <th>4</th>\n",
       "      <td>5</td>\n",
       "      <td>285</td>\n",
       "      <td>1</td>\n",
       "      <td>8</td>\n",
       "      <td>6603</td>\n",
       "      <td>30306</td>\n",
       "      <td>5569</td>\n",
       "      <td>11037</td>\n",
       "      <td>0</td>\n",
       "      <td>1</td>\n",
       "    </tr>\n",
       "    <tr>\n",
       "      <th>...</th>\n",
       "      <td>...</td>\n",
       "      <td>...</td>\n",
       "      <td>...</td>\n",
       "      <td>...</td>\n",
       "      <td>...</td>\n",
       "      <td>...</td>\n",
       "      <td>...</td>\n",
       "      <td>...</td>\n",
       "      <td>...</td>\n",
       "      <td>...</td>\n",
       "    </tr>\n",
       "    <tr>\n",
       "      <th>2014</th>\n",
       "      <td>2015</td>\n",
       "      <td>302</td>\n",
       "      <td>1</td>\n",
       "      <td>7</td>\n",
       "      <td>12150</td>\n",
       "      <td>6783</td>\n",
       "      <td>41481</td>\n",
       "      <td>67431</td>\n",
       "      <td>1</td>\n",
       "      <td>1</td>\n",
       "    </tr>\n",
       "    <tr>\n",
       "      <th>2015</th>\n",
       "      <td>2016</td>\n",
       "      <td>607</td>\n",
       "      <td>5</td>\n",
       "      <td>14</td>\n",
       "      <td>22506</td>\n",
       "      <td>11942</td>\n",
       "      <td>45456</td>\n",
       "      <td>47676</td>\n",
       "      <td>0</td>\n",
       "      <td>1</td>\n",
       "    </tr>\n",
       "    <tr>\n",
       "      <th>2016</th>\n",
       "      <td>2017</td>\n",
       "      <td>204</td>\n",
       "      <td>1</td>\n",
       "      <td>7</td>\n",
       "      <td>7384</td>\n",
       "      <td>1170</td>\n",
       "      <td>11659</td>\n",
       "      <td>28906</td>\n",
       "      <td>0</td>\n",
       "      <td>1</td>\n",
       "    </tr>\n",
       "    <tr>\n",
       "      <th>2017</th>\n",
       "      <td>2018</td>\n",
       "      <td>390</td>\n",
       "      <td>2</td>\n",
       "      <td>4</td>\n",
       "      <td>17025</td>\n",
       "      <td>63084</td>\n",
       "      <td>55017</td>\n",
       "      <td>126118</td>\n",
       "      <td>0</td>\n",
       "      <td>0</td>\n",
       "    </tr>\n",
       "    <tr>\n",
       "      <th>2018</th>\n",
       "      <td>2019</td>\n",
       "      <td>441</td>\n",
       "      <td>3</td>\n",
       "      <td>5</td>\n",
       "      <td>15005</td>\n",
       "      <td>49836</td>\n",
       "      <td>40727</td>\n",
       "      <td>80741</td>\n",
       "      <td>1</td>\n",
       "      <td>0</td>\n",
       "    </tr>\n",
       "  </tbody>\n",
       "</table>\n",
       "<p>2019 rows × 10 columns</p>\n",
       "</div>"
      ],
      "text/plain": [
       "      Unnamed: 0  area_ch_1  spot_fiber_count_ch_3  spot_fiber_count_ch_4  \\\n",
       "0              1        185                      1                      5   \n",
       "1              2        819                      4                     12   \n",
       "2              3        431                      2                      7   \n",
       "3              4        298                      4                      8   \n",
       "4              5        285                      1                      8   \n",
       "...          ...        ...                    ...                    ...   \n",
       "2014        2015        302                      1                      7   \n",
       "2015        2016        607                      5                     14   \n",
       "2016        2017        204                      1                      7   \n",
       "2017        2018        390                      2                      4   \n",
       "2018        2019        441                      3                      5   \n",
       "\n",
       "      total_inten_ch_1  total_inten_ch_2  total_inten_ch_3  total_inten_ch_4  \\\n",
       "0                 2781               701              1690               392   \n",
       "1                24964            160998             54675            128368   \n",
       "2                11552             47511             26344             43959   \n",
       "3                 5545             28870              8042              8843   \n",
       "4                 6603             30306              5569             11037   \n",
       "...                ...               ...               ...               ...   \n",
       "2014             12150              6783             41481             67431   \n",
       "2015             22506             11942             45456             47676   \n",
       "2016              7384              1170             11659             28906   \n",
       "2017             17025             63084             55017            126118   \n",
       "2018             15005             49836             40727             80741   \n",
       "\n",
       "      case  class  \n",
       "0        0      1  \n",
       "1        1      1  \n",
       "2        1      0  \n",
       "3        1      1  \n",
       "4        0      1  \n",
       "...    ...    ...  \n",
       "2014     1      1  \n",
       "2015     0      1  \n",
       "2016     0      1  \n",
       "2017     0      0  \n",
       "2018     1      0  \n",
       "\n",
       "[2019 rows x 10 columns]"
      ]
     },
     "execution_count": 15,
     "metadata": {},
     "output_type": "execute_result"
    }
   ],
   "source": [
    "# Codage des variables qualitatives\n",
    "df['case'] = df['case'].replace({'Test' : 0 , 'Train' : 1})\n",
    "df['class'] = df['class'].replace({'WS' : 0 , 'PS' : 1})\n",
    "df"
   ]
  },
  {
   "cell_type": "code",
   "execution_count": 17,
   "id": "b83e29c5-dcc6-4d97-b706-d6c1b2cb2146",
   "metadata": {},
   "outputs": [],
   "source": [
    "seed = 44\n",
    "X = df.drop('class',axis=1)\n",
    "y = df['class']\n",
    "X_train,X_test,y_train,y_test = train_test_split(X,y , test_size= 0.4, random_state=seed , stratify=y)\n",
    "X_val,X_test,y_val,y_test = train_test_split(X_test,y_test , test_size= 0.5, random_state=44 , stratify=y_test)"
   ]
  },
  {
   "cell_type": "code",
   "execution_count": 19,
   "id": "aebc3044-4b9c-439f-a93e-cdcaf0fa2b27",
   "metadata": {},
   "outputs": [
    {
     "data": {
      "text/plain": [
       "class\n",
       "1    0.643883\n",
       "0    0.356117\n",
       "Name: proportion, dtype: float64"
      ]
     },
     "execution_count": 19,
     "metadata": {},
     "output_type": "execute_result"
    }
   ],
   "source": [
    "y.value_counts(normalize=True)"
   ]
  },
  {
   "cell_type": "code",
   "execution_count": 21,
   "id": "db26eb7f-dcff-4aae-b33c-123aa31a1a53",
   "metadata": {},
   "outputs": [
    {
     "data": {
      "text/plain": [
       "class\n",
       "1    0.643564\n",
       "0    0.356436\n",
       "Name: proportion, dtype: float64"
      ]
     },
     "execution_count": 21,
     "metadata": {},
     "output_type": "execute_result"
    }
   ],
   "source": [
    "y_test.value_counts(normalize=True)"
   ]
  },
  {
   "cell_type": "code",
   "execution_count": 23,
   "id": "46518b00-ee53-42f8-bf80-94f27df9c0a7",
   "metadata": {},
   "outputs": [
    {
     "data": {
      "text/plain": [
       "class\n",
       "1    0.643564\n",
       "0    0.356436\n",
       "Name: proportion, dtype: float64"
      ]
     },
     "execution_count": 23,
     "metadata": {},
     "output_type": "execute_result"
    }
   ],
   "source": [
    "y_val.value_counts(normalize=True)"
   ]
  },
  {
   "cell_type": "code",
   "execution_count": 25,
   "id": "ba7b497a-1ae1-4287-aed8-82dd4ff4c7bd",
   "metadata": {},
   "outputs": [
    {
     "name": "stderr",
     "output_type": "stream",
     "text": [
      "C:\\Users\\Utilisateur\\AppData\\Local\\Temp\\ipykernel_16624\\3734418053.py:3: FutureWarning: \n",
      "\n",
      "Passing `palette` without assigning `hue` is deprecated and will be removed in v0.14.0. Assign the `x` variable to `hue` and set `legend=False` for the same effect.\n",
      "\n",
      "  sns.countplot(x='class' , data=df ,palette='pastel')\n"
     ]
    },
    {
     "data": {
      "text/plain": [
       "<Axes: xlabel='class', ylabel='count'>"
      ]
     },
     "execution_count": 25,
     "metadata": {},
     "output_type": "execute_result"
    },
    {
     "data": {
      "image/png": "[encoded data removed]",
      "text/plain": [
       "<Figure size 640x480 with 1 Axes>"
      ]
     },
     "metadata": {},
     "output_type": "display_data"
    }
   ],
   "source": [
    "# On remarque que les proportions des valeurs sont préservées.\n",
    "# Il faut que les deux classes de la variable class soient réparties à 50 % pour chaque catégorie\n",
    "sns.countplot(x='class' , data=df ,palette='pastel')"
   ]
  },
  {
   "cell_type": "code",
   "execution_count": 26,
   "id": "4e707bcd-77b8-43a2-90af-6ed0b5efa9f5",
   "metadata": {},
   "outputs": [
    {
     "data": {
      "text/html": [
       "<div>\n",
       "<style scoped>\n",
       "    .dataframe tbody tr th:only-of-type {\n",
       "        vertical-align: middle;\n",
       "    }\n",
       "\n",
       "    .dataframe tbody tr th {\n",
       "        vertical-align: top;\n",
       "    }\n",
       "\n",
       "    .dataframe thead th {\n",
       "        text-align: right;\n",
       "    }\n",
       "</style>\n",
       "<table border=\"1\" class=\"dataframe\">\n",
       "  <thead>\n",
       "    <tr style=\"text-align: right;\">\n",
       "      <th></th>\n",
       "      <th>Unnamed: 0</th>\n",
       "      <th>area_ch_1</th>\n",
       "      <th>spot_fiber_count_ch_3</th>\n",
       "      <th>spot_fiber_count_ch_4</th>\n",
       "      <th>total_inten_ch_1</th>\n",
       "      <th>total_inten_ch_2</th>\n",
       "      <th>total_inten_ch_3</th>\n",
       "      <th>total_inten_ch_4</th>\n",
       "      <th>case</th>\n",
       "      <th>class</th>\n",
       "    </tr>\n",
       "  </thead>\n",
       "  <tbody>\n",
       "    <tr>\n",
       "      <th>1712</th>\n",
       "      <td>1713</td>\n",
       "      <td>295</td>\n",
       "      <td>1</td>\n",
       "      <td>7</td>\n",
       "      <td>8993</td>\n",
       "      <td>50064</td>\n",
       "      <td>2574</td>\n",
       "      <td>17081</td>\n",
       "      <td>0</td>\n",
       "      <td>0</td>\n",
       "    </tr>\n",
       "    <tr>\n",
       "      <th>1490</th>\n",
       "      <td>1491</td>\n",
       "      <td>270</td>\n",
       "      <td>3</td>\n",
       "      <td>8</td>\n",
       "      <td>10137</td>\n",
       "      <td>38434</td>\n",
       "      <td>12086</td>\n",
       "      <td>14524</td>\n",
       "      <td>1</td>\n",
       "      <td>1</td>\n",
       "    </tr>\n",
       "    <tr>\n",
       "      <th>1574</th>\n",
       "      <td>1575</td>\n",
       "      <td>238</td>\n",
       "      <td>1</td>\n",
       "      <td>8</td>\n",
       "      <td>17240</td>\n",
       "      <td>88634</td>\n",
       "      <td>27185</td>\n",
       "      <td>23610</td>\n",
       "      <td>0</td>\n",
       "      <td>1</td>\n",
       "    </tr>\n",
       "    <tr>\n",
       "      <th>1104</th>\n",
       "      <td>1105</td>\n",
       "      <td>329</td>\n",
       "      <td>1</td>\n",
       "      <td>6</td>\n",
       "      <td>15841</td>\n",
       "      <td>79003</td>\n",
       "      <td>25461</td>\n",
       "      <td>72775</td>\n",
       "      <td>1</td>\n",
       "      <td>1</td>\n",
       "    </tr>\n",
       "    <tr>\n",
       "      <th>1514</th>\n",
       "      <td>1515</td>\n",
       "      <td>265</td>\n",
       "      <td>1</td>\n",
       "      <td>7</td>\n",
       "      <td>39428</td>\n",
       "      <td>41092</td>\n",
       "      <td>82609</td>\n",
       "      <td>105074</td>\n",
       "      <td>1</td>\n",
       "      <td>1</td>\n",
       "    </tr>\n",
       "  </tbody>\n",
       "</table>\n",
       "</div>"
      ],
      "text/plain": [
       "      Unnamed: 0  area_ch_1  spot_fiber_count_ch_3  spot_fiber_count_ch_4  \\\n",
       "1712        1713        295                      1                      7   \n",
       "1490        1491        270                      3                      8   \n",
       "1574        1575        238                      1                      8   \n",
       "1104        1105        329                      1                      6   \n",
       "1514        1515        265                      1                      7   \n",
       "\n",
       "      total_inten_ch_1  total_inten_ch_2  total_inten_ch_3  total_inten_ch_4  \\\n",
       "1712              8993             50064              2574             17081   \n",
       "1490             10137             38434             12086             14524   \n",
       "1574             17240             88634             27185             23610   \n",
       "1104             15841             79003             25461             72775   \n",
       "1514             39428             41092             82609            105074   \n",
       "\n",
       "      case  class  \n",
       "1712     0      0  \n",
       "1490     1      1  \n",
       "1574     0      1  \n",
       "1104     1      1  \n",
       "1514     1      1  "
      ]
     },
     "execution_count": 26,
     "metadata": {},
     "output_type": "execute_result"
    }
   ],
   "source": [
    "# Pour cela, on utilise la méthode de sur-échantillonnage pour équilibrer les deux classes.\n",
    "from sklearn.utils import resample \n",
    "\n",
    "X2 = X_train\n",
    "X2['class'] = y_train.values\n",
    "X2.head()"
   ]
  },
  {
   "cell_type": "code",
   "execution_count": 29,
   "id": "a54dd2e9-b518-48fc-b02c-12225dca94c5",
   "metadata": {},
   "outputs": [
    {
     "name": "stdout",
     "output_type": "stream",
     "text": [
      "Le shape de majority est : (780, 10)\n",
      "Le shape de majority est : (431, 10)\n"
     ]
    }
   ],
   "source": [
    "minority = X2[X2[\"class\"] == 0]\n",
    "majority = X2[X2[\"class\"] == 1]\n",
    "print('Le shape de majority est :', majority.shape)\n",
    "print('Le shape de majority est :', minority.shape)"
   ]
  },
  {
   "cell_type": "code",
   "execution_count": 31,
   "id": "f00fa035-ea4a-45b2-8d7f-d0abf4c9ce50",
   "metadata": {},
   "outputs": [
    {
     "data": {
      "text/plain": [
       "(780, 10)"
      ]
     },
     "execution_count": 31,
     "metadata": {},
     "output_type": "execute_result"
    }
   ],
   "source": [
    " minority_up_simple = resample(minority,replace=True,n_samples= len(majority))\n",
    "minority_up_simple.shape"
   ]
  },
  {
   "cell_type": "code",
   "execution_count": 33,
   "id": "d0a06a31-7291-4216-843e-f74abce6170b",
   "metadata": {},
   "outputs": [],
   "source": [
    "upsampled = pd.concat([majority,minority_up_simple])"
   ]
  },
  {
   "cell_type": "code",
   "execution_count": 35,
   "id": "9e21c3e4-fdcc-4b25-9078-86ab1bc9dc90",
   "metadata": {},
   "outputs": [
    {
     "name": "stderr",
     "output_type": "stream",
     "text": [
      "C:\\Users\\Utilisateur\\AppData\\Local\\Temp\\ipykernel_16624\\631069608.py:1: FutureWarning: \n",
      "\n",
      "Passing `palette` without assigning `hue` is deprecated and will be removed in v0.14.0. Assign the `x` variable to `hue` and set `legend=False` for the same effect.\n",
      "\n",
      "  sns.countplot(x='class' , data=upsampled ,palette='pastel')\n"
     ]
    },
    {
     "data": {
      "text/plain": [
       "<Axes: xlabel='class', ylabel='count'>"
      ]
     },
     "execution_count": 35,
     "metadata": {},
     "output_type": "execute_result"
    },
    {
     "data": {
      "image/png": "[encoded data removed]",
      "text/plain": [
       "<Figure size 640x480 with 1 Axes>"
      ]
     },
     "metadata": {},
     "output_type": "display_data"
    }
   ],
   "source": [
    "sns.countplot(x='class' , data=upsampled ,palette='pastel')"
   ]
  },
  {
   "cell_type": "code",
   "execution_count": 37,
   "id": "5fe7a0c2-81d8-492f-be76-ce057224b5be",
   "metadata": {},
   "outputs": [],
   "source": [
    "X_train_up = upsampled.drop(['class'],axis=1)\n",
    "y_train_up = upsampled['class']"
   ]
  },
  {
   "cell_type": "code",
   "execution_count": 39,
   "id": "de48cc73-8912-4895-99ad-ab86504e7fbe",
   "metadata": {},
   "outputs": [
    {
     "data": {
      "text/plain": [
       "0.7722772277227723"
      ]
     },
     "execution_count": 39,
     "metadata": {},
     "output_type": "execute_result"
    }
   ],
   "source": [
    "# modélisation\n",
    "# selection des variables importants \n",
    "from sklearn.ensemble import RandomForestClassifier\n",
    "from sklearn.metrics import accuracy_score\n",
    "rf = RandomForestClassifier(random_state=44)\n",
    "rf.fit(X_train_up,y_train_up)\n",
    "accuracy_score(y_val,rf.predict(X_val))"
   ]
  },
  {
   "cell_type": "code",
   "execution_count": 40,
   "id": "db75953a-d357-4772-a528-982458aee7ff",
   "metadata": {},
   "outputs": [
    {
     "data": {
      "text/plain": [
       "total_inten_ch_2         0.341508\n",
       "total_inten_ch_1         0.209020\n",
       "total_inten_ch_4         0.103588\n",
       "total_inten_ch_3         0.092168\n",
       "area_ch_1                0.084174\n",
       "Unnamed: 0               0.083122\n",
       "spot_fiber_count_ch_4    0.045462\n",
       "spot_fiber_count_ch_3    0.031351\n",
       "case                     0.009606\n",
       "dtype: float64"
      ]
     },
     "execution_count": 40,
     "metadata": {},
     "output_type": "execute_result"
    }
   ],
   "source": [
    "#selectioner les variables importants \n",
    "vars_imprt = pd.Series(rf.feature_importances_,index=X_train_up.columns).sort_values(ascending=False)\n",
    "vars_imprt\n",
    "#On peut laisser les variables, car elles ont toutes une influence sur la variable cible.\n",
    "#Par contre, on remarque que la variable total_inten_ch_2 a trop d'importance pour prédire notre variable cible."
   ]
  },
  {
   "cell_type": "code",
   "execution_count": 43,
   "id": "3dc16894-2ee9-49a3-b8d6-ff8973b520e0",
   "metadata": {},
   "outputs": [
    {
     "data": {
      "text/plain": [
       "<Axes: xlabel='None', ylabel='None'>"
      ]
     },
     "execution_count": 43,
     "metadata": {},
     "output_type": "execute_result"
    },
    {
     "data": {
      "image/png": "[encoded data removed]",
      "text/plain": [
       "<Figure size 640x480 with 1 Axes>"
      ]
     },
     "metadata": {},
     "output_type": "display_data"
    }
   ],
   "source": [
    "sns.barplot(x = vars_imprt , y=vars_imprt.index)"
   ]
  },
  {
   "cell_type": "code",
   "execution_count": 47,
   "id": "68f007e7-12c2-4679-aeaa-c1e5bb57199c",
   "metadata": {},
   "outputs": [
    {
     "name": "stdout",
     "output_type": "stream",
     "text": [
      "0.7365384615384616\n",
      "LogisticRegression(C=0.001, max_iter=500, random_state=44, solver='liblinear')\n",
      "{'C': 0.001}\n"
     ]
    }
   ],
   "source": [
    "# Regression logistic\n",
    "from sklearn.linear_model import LogisticRegression\n",
    "from sklearn.model_selection import GridSearchCV\n",
    "lr = LogisticRegression(random_state=seed,solver='liblinear', max_iter=500)\n",
    "lr_hyp = {\"C\" : [0.001,0.01,0.1,1,1,100,500]}\n",
    "lr_cv = GridSearchCV(lr,lr_hyp,cv = 5)\n",
    "lr_cv.fit(X_train_up,y_train_up)\n",
    "print(lr_cv.best_score_)\n",
    "print(lr_cv.best_estimator_)\n",
    "print(lr_cv.best_params_)"
   ]
  },
  {
   "cell_type": "code",
   "execution_count": 64,
   "id": "a54600d5-10d9-4073-bcce-7c5f76011828",
   "metadata": {},
   "outputs": [
    {
     "name": "stdout",
     "output_type": "stream",
     "text": [
      "0.8807692307692309\n",
      "RandomForestClassifier(max_depth=20, n_estimators=200, random_state=44)\n",
      "{'max_depth': 20, 'n_estimators': 200}\n"
     ]
    }
   ],
   "source": [
    "#forret aléatoire \n",
    "RF = RandomForestClassifier(random_state=44)\n",
    "#chercher le nombre ideale d'arbre \n",
    "RF_hyp = {'n_estimators' : [5,10,20,50,100,200],'max_depth' : [None,2,5,10,15,20]}\n",
    "RF_cv = GridSearchCV(RF,RF_hyp,cv=5)\n",
    "RF_cv.fit(X_train_up,y_train_up)\n",
    "print(RF_cv.best_score_)\n",
    "print(RF_cv.best_estimator_)\n",
    "print(RF_cv.best_params_)\n"
   ]
  },
  {
   "cell_type": "code",
   "execution_count": 68,
   "id": "dce256e0-a0ed-4e3f-90df-b32cd3d763b1",
   "metadata": {},
   "outputs": [
    {
     "name": "stdout",
     "output_type": "stream",
     "text": [
      "0.8756410256410255\n",
      "BaggingClassifier(n_estimators=200, random_state=44)\n",
      "{'n_estimators': 200}\n"
     ]
    }
   ],
   "source": [
    "#Baggin Clasifier \n",
    "from sklearn.ensemble import BaggingClassifier \n",
    "bc = BaggingClassifier(random_state=44)\n",
    "bc_hyp = {'n_estimators' : [5,10,20,50,100,200]}\n",
    "bc_cv = GridSearchCV(bc,bc_hyp,cv=5)\n",
    "bc_cv.fit(X_train_up,y_train_up)\n",
    "print(bc_cv.best_score_)\n",
    "print(bc_cv.best_estimator_)\n",
    "print(bc_cv.best_params_)"
   ]
  },
  {
   "cell_type": "code",
   "execution_count": 53,
   "id": "247db3c5-2156-48d3-a190-0b834ecfea5d",
   "metadata": {},
   "outputs": [
    {
     "name": "stdout",
     "output_type": "stream",
     "text": [
      "0.8570512820512821\n",
      "KNeighborsClassifier(metric='euclidean', n_neighbors=1)\n",
      "{'metric': 'euclidean', 'n_neighbors': 1, 'weights': 'uniform'}\n"
     ]
    }
   ],
   "source": [
    "from sklearn.neighbors import KNeighborsClassifier\n",
    "knn = KNeighborsClassifier()\n",
    "knn_hyper = {'n_neighbors': [1,3, 5, 7, 10,15,20,50,100] ,'weights': ['uniform', 'distance'],'metric': ['euclidean', 'manhattan'] }\n",
    "knn_cv = GridSearchCV(knn, knn_hyper, cv=5)\n",
    "knn_cv.fit(X_train_up, y_train_up)\n",
    "print(knn_cv.best_score_)\n",
    "print(knn_cv.best_estimator_)\n",
    "print(knn_cv.best_params_)\n"
   ]
  },
  {
   "cell_type": "code",
   "execution_count": 55,
   "id": "59619449-a030-4bb2-b590-d9c2c2d8ce17",
   "metadata": {},
   "outputs": [
    {
     "name": "stdout",
     "output_type": "stream",
     "text": [
      "0.8814102564102564\n",
      "GradientBoostingClassifier(learning_rate=0.3, max_depth=10, n_estimators=200,\n",
      "                           random_state=44)\n",
      "{'learning_rate': 0.3, 'max_depth': 10, 'n_estimators': 200}\n"
     ]
    }
   ],
   "source": [
    "from sklearn.ensemble import GradientBoostingClassifier\n",
    "gb = GradientBoostingClassifier(random_state=44)\n",
    "gb_hyper = {'n_estimators': [100, 200], 'learning_rate': [0.01, 0.1, 0.3], 'max_depth': [3, 6, 10]}\n",
    "gb_cv = GridSearchCV(gb, gb_hyper, cv=5)\n",
    "gb_cv.fit(X_train_up, y_train_up)\n",
    "print(gb_cv.best_score_)\n",
    "print(gb_cv.best_estimator_)\n",
    "print(gb_cv.best_params_)"
   ]
  },
  {
   "cell_type": "code",
   "execution_count": 60,
   "id": "05c1b932-8043-4c63-bb52-77b943abee05",
   "metadata": {},
   "outputs": [
    {
     "name": "stdout",
     "output_type": "stream",
     "text": [
      "0.8166666666666668\n",
      "AdaBoostClassifier(algorithm='SAMME', learning_rate=1, n_estimators=200,\n",
      "                   random_state=44)\n",
      "{'learning_rate': 1, 'n_estimators': 200}\n"
     ]
    }
   ],
   "source": [
    "from sklearn.ensemble import AdaBoostClassifier\n",
    "ab = AdaBoostClassifier(algorithm='SAMME',random_state=44)\n",
    "ab_hyper = {'n_estimators': [150, 200,300], 'learning_rate': [1,5,10]}\n",
    "ab_cv = GridSearchCV(ab, ab_hyper, cv=5)\n",
    "ab_cv.fit(X_train_up, y_train_up)\n",
    "print(ab_cv.best_score_)\n",
    "print(ab_cv.best_estimator_)\n",
    "print(ab_cv.best_params_)"
   ]
  },
  {
   "cell_type": "code",
   "execution_count": 94,
   "id": "9d904012-7657-46b5-82dd-dbd542315e24",
   "metadata": {},
   "outputs": [],
   "source": [
    "def model_evaluations(model, X_val, y_val):\n",
    "    # Prédiction sur les données de validation\n",
    "    y_pred = model.predict(X_val)\n",
    "    \n",
    "    # Calcul des métriques\n",
    "    accuracy = accuracy_score(y_val, y_pred)\n",
    "    precision = precision_score(y_val, y_pred)\n",
    "    recall = recall_score(y_val, y_pred)\n",
    "    f1 = f1_score(y_val, y_pred)\n",
    "\n",
    "    # Retourner les métriques\n",
    "    return accuracy, precision, recall, f1"
   ]
  },
  {
   "cell_type": "code",
   "execution_count": 98,
   "id": "03a5868a-38c9-4e93-aab2-b5efe27083fc",
   "metadata": {},
   "outputs": [
    {
     "name": "stdout",
     "output_type": "stream",
     "text": [
      "Model: Logistic Regression\n",
      "Model: Random Forest\n",
      "Model: KNN\n",
      "Model: Bagging Classifier\n",
      "Model: Gradient Boosting\n",
      "Model: AdaBoost\n",
      "                 Model  Accuracy  Precision    Recall  F1-score\n",
      "0  Logistic Regression  0.727723   0.864078  0.684615  0.763948\n",
      "1        Random Forest  0.769802   0.843621  0.788462  0.815109\n",
      "2                  KNN  0.735149   0.790875  0.800000  0.795411\n",
      "3   Bagging Classifier  0.772277   0.841463  0.796154  0.818182\n",
      "4    Gradient Boosting  0.747525   0.801527  0.807692  0.804598\n",
      "5             AdaBoost  0.754950   0.877934  0.719231  0.790698\n"
     ]
    }
   ],
   "source": [
    "# on remarque que le model de Bagging Classifier est le milleur \n",
    "# Stocker les résultats\n",
    "from sklearn.metrics import accuracy_score, precision_score, recall_score, f1_score\n",
    "\n",
    "results = []\n",
    "\n",
    "# Liste des noms des modèles\n",
    "model_names = [\"Logistic Regression\", \"Random Forest\", \"KNN\", \"Bagging Classifier\", \"Gradient Boosting\", \"AdaBoost\"]\n",
    "\n",
    "# Boucle sur les modèles\n",
    "for name, model in zip(model_names, models):\n",
    "    print(f\"Model: {name}\")\n",
    "    \n",
    "    # Obtenir les métriques\n",
    "    accuracy, precision, recall, f1 = model_evaluations(model, X_val, y_val)\n",
    "    \n",
    "    # Ajouter les résultats dans la liste\n",
    "    results.append({\"Model\": name, \"Accuracy\": accuracy, \"Precision\": precision, \"Recall\": recall, \"F1-score\": f1})\n",
    "\n",
    "# Convertir en DataFrame\n",
    "df_results = pd.DataFrame(results)\n",
    "\n",
    "# Afficher les résultats sous forme de tableau\n",
    "print(df_results)"
   ]
  },
  {
   "cell_type": "code",
   "execution_count": 100,
   "id": "a6df5c59-8a4e-4529-b6ab-e3145e1d7c4c",
   "metadata": {},
   "outputs": [
    {
     "name": "stderr",
     "output_type": "stream",
     "text": [
      "C:\\Users\\Utilisateur\\AppData\\Local\\Temp\\ipykernel_16624\\2371253999.py:1: FutureWarning: \n",
      "\n",
      "Passing `palette` without assigning `hue` is deprecated and will be removed in v0.14.0. Assign the `y` variable to `hue` and set `legend=False` for the same effect.\n",
      "\n",
      "  sns.barplot(x=\"Accuracy\", y=\"Model\", data=df_results, palette=\"viridis\")\n"
     ]
    },
    {
     "data": {
      "image/png": "[encoded data removed]",
      "text/plain": [
       "<Figure size 640x480 with 1 Axes>"
      ]
     },
     "metadata": {},
     "output_type": "display_data"
    }
   ],
   "source": [
    "sns.barplot(x=\"Accuracy\", y=\"Model\", data=df_results, palette=\"viridis\")\n",
    "\n",
    "plt.title(\"Performance des modèles sur les données de validation\")\n",
    "plt.xlabel(\"Accuracy\")\n",
    "plt.ylabel(\"Modèles\")\n",
    "plt.show()\n",
    "# on remarque que le bagging clasifier et random forest qont les meilleus models "
   ]
  },
  {
   "cell_type": "code",
   "execution_count": 102,
   "id": "22a59fb3-6f62-4bcd-8c0b-5fc6fadd58bf",
   "metadata": {},
   "outputs": [
    {
     "name": "stdout",
     "output_type": "stream",
     "text": [
      "l'accuracy  de bagging Classifier est :  0.7920792079207921\n",
      "l'accuracy  de Random Forest est :  0.7970297029702971\n"
     ]
    }
   ],
   "source": [
    "# validation des deux algorthm avec les données de test \n",
    "print(\"l'accuracy  de bagging Classifier est : \" , accuracy_score(y_test,bc_cv.best_estimator_.predict(X_test)))\n",
    "print(\"l'accuracy  de Random Forest est : \" , accuracy_score(y_test,RF_cv.best_estimator_.predict(X_test)))"
   ]
  },
  {
   "cell_type": "markdown",
   "id": "325f5314-24c0-4ec4-9597-41c62fb702c8",
   "metadata": {},
   "source": [
    "#### **Résumé du Travail Réalisé**  \n",
    "\n",
    "1. **Prétraitement des Données**  \n",
    "   - Sélection des **variables les plus pertinentes** pour l'analyse.  \n",
    "   - Encodage des **variables catégorielles** afin de les rendre exploitables par les algorithmes de Machine Learning.  \n",
    "   - **Gestion du déséquilibre des classes cibles** : mise en place de techniques comme le **suréchantillonnage** ou le **sous-échantillonnage** pour équilibrer les classes avant l'entraînement des modèles.  \n",
    "\n",
    "2. **Partition des Données**  \n",
    "   - Séparation du jeu de données en trois ensembles :  \n",
    "     - **Entraînement (60%)** : utilisé pour ajuster les modèles.  \n",
    "     - **Validation (20%)** : utilisé pour optimiser les hyperparamètres et comparer les modèles.  \n",
    "     - **Test (20%)** : utilisé pour évaluer la performance finale du meilleur modèle.  \n",
    "\n",
    "3. **Modélisation & Optimisation**  \n",
    "   - Expérimentation avec **six algorithmes de classification**.  \n",
    "   - Optimisation des hyperparamètres via **une recherche par validation croisée (5-fold Cross Validation)**.  \n",
    "\n",
    "4. **Évaluation & Sélection du Modèle**  \n",
    "   - Comparaison des performances des modèles sur l’ensemble de validation.  \n",
    "   - Classement des modèles en fonction de plusieurs métriques (Accuracy, Précision, Recall, F1-score).  \n",
    "\n",
    "5. **Validation Finale**  \n",
    "   - Test du meilleur modèle sur l’ensemble de test afin d’obtenir une **évaluation objective et généralisable**.  \n",
    "\n",
    "### **Conclusion**  \n",
    "L’approche adoptée garantit une **sélection rigoureuse du modèle optimal**, en évitant le surapprentissage et en assurant une **bonne généralisation sur de nouvelles données**, tout en prenant en compte le **déséquilibre des classes cibles** pour améliorer les performances des modèles sur des jeux de données déséquilibrés. 🚀\n"
   ]
  },
  {
   "cell_type": "code",
   "execution_count": null,
   "id": "55ffe573-50a6-43b9-8b1b-628743791b47",
   "metadata": {},
   "outputs": [],
   "source": []
  }
 ],
 "metadata": {
  "kernelspec": {
   "display_name": "Python 3 (ipykernel)",
   "language": "python",
   "name": "python3"
  },
  "language_info": {
   "codemirror_mode": {
    "name": "ipython",
    "version": 3
   },
   "file_extension": ".py",
   "mimetype": "text/x-python",
   "name": "python",
   "nbconvert_exporter": "python",
   "pygments_lexer": "ipython3",
   "version": "3.12.7"
  }
 },
 "nbformat": 4,
 "nbformat_minor": 5
}
